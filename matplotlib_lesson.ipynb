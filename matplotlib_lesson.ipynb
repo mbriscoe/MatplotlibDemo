{
 "cells": [
  {
   "cell_type": "markdown",
   "id": "f12fe33b",
   "metadata": {},
   "source": [
    "# Matplotlib Introduction\n",
    "\n",
    "Matplotlib is a powerful Python library for creating static, animated, and interactive visualizations. It is widely used for data visualization in scientific computing, engineering, and data analysis.\n",
    "\n",
    "This notebook covers:\n",
    "- Basic concepts of Matplotlib\n",
    "- Creating simple plots\n",
    "- Customizing plots\n",
    "- Plotting with example data"
   ]
  },
  {
   "cell_type": "code",
   "execution_count": null,
   "id": "cfd1db5d",
   "metadata": {},
   "outputs": [],
   "source": [
    "import pandas as pd\n",
    "import numpy as np\n",
    "import matplotlib.pyplot as plt"
   ]
  },
  {
   "cell_type": "markdown",
   "id": "a56b8e35",
   "metadata": {},
   "source": [
    "## Importing Matplotlib\n",
    "\n",
    "`matplotlib.pyplot` is the main module for plotting in Matplotlib. The alias `plt` is commonly used for convenience."
   ]
  },
  {
   "cell_type": "markdown",
   "id": "5ab81a59",
   "metadata": {},
   "source": [
    "## Creating a Simple Line Plot\n",
    "\n",
    "Let's plot a simple line graph using lists of x and y values."
   ]
  },
  {
   "cell_type": "code",
   "execution_count": null,
   "id": "26389d09",
   "metadata": {},
   "outputs": [],
   "source": [
    "x = [1, 2, 3, 4, 5]\n",
    "y = [2, 4, 6, 8, 10]\n",
    "plt.plot(x, y)\n",
    "plt.title('Simple Line Plot')\n",
    "plt.xlabel('X Axis')\n",
    "plt.ylabel('Y Axis')\n",
    "plt.show()"
   ]
  },
  {
   "cell_type": "markdown",
   "id": "9b16947b",
   "metadata": {},
   "source": [
    "**Explanation:**\n",
    "- `x` and `y` are Python lists that store the horizontal and vertical coordinates for each data point. Each pair `(x[i], y[i])` represents a point on the graph.\n",
    "- `plt.plot(x, y)` creates a line plot by connecting the data points in order. This is useful for visualizing trends or relationships between two variables.\n",
    "- `plt.title('Simple Line Plot')` adds a descriptive title to the top of the plot, helping viewers understand what the graph represents.\n",
    "- `plt.xlabel('X Axis')` and `plt.ylabel('Y Axis')` label the horizontal and vertical axes, clarifying what each axis measures.\n",
    "- `plt.show()` displays the plot window, rendering the visualization so you can see the result."
   ]
  },
  {
   "cell_type": "markdown",
   "id": "7bec6007",
   "metadata": {},
   "source": [
    "## Customizing the Plot\n",
    "\n",
    "You can change the appearance of your plot using various options."
   ]
  },
  {
   "cell_type": "code",
   "execution_count": null,
   "id": "9355f237",
   "metadata": {},
   "outputs": [],
   "source": [
    "plt.plot(x, y, color='red', linestyle='--', marker='o', label='Data')\n",
    "plt.title('Customized Line Plot')\n",
    "plt.xlabel('X Axis')\n",
    "plt.ylabel('Y Axis')\n",
    "plt.legend()\n",
    "plt.grid(True)\n",
    "plt.show()"
   ]
  },
  {
   "cell_type": "markdown",
   "id": "b09ba7ba",
   "metadata": {},
   "source": [
    "**Explanation:**\n",
    "- `color='red'` changes the color of the line to red, making it stand out visually.\n",
    "- `linestyle='--'` sets the line style to dashed, which can help differentiate multiple lines in a plot.\n",
    "- `marker='o'` adds circular markers at each data point, making individual values easier to identify.\n",
    "- `label='Data'` assigns a label to the line, which is used in the legend for clarity when multiple lines are present.\n",
    "- `plt.legend()` displays a legend on the plot, showing the label for each line or marker type.\n",
    "- `plt.grid(True)` overlays grid lines on the plot, making it easier to read values and compare data points.\n",
    "- `plt.show()` renders the customized plot for viewing."
   ]
  },
  {
   "cell_type": "markdown",
   "id": "a7940468",
   "metadata": {},
   "source": [
    "## Bar Chart Example\n",
    "\n",
    "Bar charts are useful for comparing discrete categories."
   ]
  },
  {
   "cell_type": "code",
   "execution_count": null,
   "id": "be7fb4bb",
   "metadata": {},
   "outputs": [],
   "source": [
    "categories = ['A', 'B', 'C', 'D']\n",
    "values = [10, 24, 36, 18]\n",
    "plt.bar(categories, values, color='skyblue')\n",
    "plt.title('Bar Chart Example')\n",
    "plt.xlabel('Category')\n",
    "plt.ylabel('Value')\n",
    "plt.show()"
   ]
  },
  {
   "cell_type": "markdown",
   "id": "ec39eb5c",
   "metadata": {},
   "source": [
    "**Explanation:**\n",
    "- `plt.bar(categories, values, color='skyblue')` creates a vertical bar chart, where each bar represents a category and its height corresponds to its value. The `color` argument sets the bars to a light blue shade for better visibility.\n",
    "- `categories` is a list of labels for each bar, making it easy to compare discrete groups.\n",
    "- `values` is a list of numbers that determine the height of each bar, representing the data for each category.\n",
    "- `plt.title('Bar Chart Example')` adds a title to the chart, summarizing what the visualization shows.\n",
    "- `plt.xlabel('Category')` and `plt.ylabel('Value')` label the axes, clarifying what each axis represents.\n",
    "- `plt.show()` displays the bar chart so you can visually compare the categories."
   ]
  },
  {
   "cell_type": "markdown",
   "id": "46656e84",
   "metadata": {},
   "source": [
    "## Scatter Plot Example\n",
    "\n",
    "Scatter plots are useful for visualizing relationships between two variables."
   ]
  },
  {
   "cell_type": "code",
   "execution_count": null,
   "id": "a122730a",
   "metadata": {},
   "outputs": [],
   "source": [
    "x = np.random.rand(50)\n",
    "y = np.random.rand(50)\n",
    "plt.scatter(x, y, color='green')\n",
    "plt.title('Scatter Plot Example')\n",
    "plt.xlabel('X Value')\n",
    "plt.ylabel('Y Value')\n",
    "plt.show()"
   ]
  },
  {
   "cell_type": "markdown",
   "id": "8448651d",
   "metadata": {},
   "source": [
    "**Explanation:**\n",
    "- `np.random.rand(50)` generates 50 random floating-point numbers between 0 and 1 for both x and y, simulating sample data for the scatter plot.\n",
    "- `plt.scatter(x, y, color='green')` plots each (x, y) pair as a separate point on the graph, using green color for the markers. Scatter plots are ideal for visualizing the relationship or correlation between two variables.\n",
    "- `plt.title('Scatter Plot Example')` adds a title to the plot, indicating what the data represents.\n",
    "- `plt.xlabel('X Value')` and `plt.ylabel('Y Value')` label the axes, helping interpret the meaning of each dimension.\n",
    "- `plt.show()` displays the scatter plot, allowing you to observe patterns or clusters in the data."
   ]
  },
  {
   "cell_type": "markdown",
   "id": "fa88e469",
   "metadata": {},
   "source": [
    "## Saving Plots to Files\n",
    "\n",
    "You can save your plots to image files for use in reports or presentations."
   ]
  },
  {
   "cell_type": "code",
   "execution_count": null,
   "id": "1631d330",
   "metadata": {},
   "outputs": [],
   "source": [
    "plt.plot(x, y)\n",
    "plt.title('Save Plot Example')\n",
    "plt.savefig('my_plot.png')\n",
    "plt.close()"
   ]
  },
  {
   "cell_type": "markdown",
   "id": "fadbf7a5",
   "metadata": {},
   "source": [
    "**Explanation:**\n",
    "- `plt.savefig('my_plot.png')` saves the current plot as a PNG image file named 'my_plot.png' in your working directory. This is useful for including visualizations in reports, presentations, or sharing with others.\n",
    "- `plt.close()` closes the plot window and releases memory associated with the figure. This is important when generating multiple plots in a script to prevent excessive memory usage."
   ]
  },
  {
   "cell_type": "markdown",
   "id": "047fa2cc",
   "metadata": {},
   "source": [
    "## Example: Pandas DataFrame Line Plot\n",
    "Let's create a simple DataFrame and plot its values using matplotlib."
   ]
  },
  {
   "cell_type": "code",
   "execution_count": null,
   "id": "51832155",
   "metadata": {},
   "outputs": [],
   "source": [
    "data = {\n",
    "    'Year': [2020, 2021, 2022, 2023],\n",
    "    'Sales': [100, 150, 200, 250]\n",
    "}\n",
    "df = pd.DataFrame(data)\n",
    "plt.figure(figsize=(6,4))\n",
    "plt.plot(df['Year'], df['Sales'], marker='o')\n",
    "plt.title('Sales Over Years')\n",
    "plt.xlabel('Year')\n",
    "plt.ylabel('Sales')\n",
    "plt.grid(True)\n",
    "plt.show()"
   ]
  },
  {
   "cell_type": "markdown",
   "id": "5dd3d7f6",
   "metadata": {},
   "source": [
    "**Explanation:**\n",
    "- A pandas DataFrame is created to organize yearly sales data, making it easy to manipulate and visualize.\n",
    "- `plt.figure(figsize=(6,4))` sets the size of the plot, ensuring it is clear and readable.\n",
    "- `plt.plot(df['Year'], df['Sales'], marker='o')` draws a line graph with years on the x-axis and sales on the y-axis, using circular markers to highlight each data point. This helps visualize trends over time.\n",
    "- `plt.title('Sales Over Years')` adds a descriptive title to the plot.\n",
    "- `plt.xlabel('Year')` and `plt.ylabel('Sales')` label the axes, clarifying what each axis measures.\n",
    "- `plt.grid(True)` overlays grid lines, making it easier to read values and compare data points.\n",
    "- `plt.show()` displays the plot for analysis."
   ]
  },
  {
   "cell_type": "markdown",
   "id": "4f67827d",
   "metadata": {},
   "source": [
    "## Example: Pandas DataFrame Bar Plot\n",
    "Now let's visualize categorical data using a bar plot."
   ]
  },
  {
   "cell_type": "code",
   "execution_count": null,
   "id": "d7b739af",
   "metadata": {},
   "outputs": [],
   "source": [
    "data = {\n",
    "    'Fruit': ['Apple', 'Banana', 'Orange', 'Grape'],\n",
    "    'Quantity': [30, 45, 10, 22]\n",
    "}\n",
    "df = pd.DataFrame(data)\n",
    "plt.figure(figsize=(6,4))\n",
    "plt.bar(df['Fruit'], df['Quantity'], color='skyblue')\n",
    "plt.title('Fruit Quantity')\n",
    "plt.xlabel('Fruit')\n",
    "plt.ylabel('Quantity')\n",
    "plt.show()"
   ]
  },
  {
   "cell_type": "markdown",
   "id": "694562e5",
   "metadata": {},
   "source": [
    "**Explanation:**\n",
    "- A pandas DataFrame is created to store fruit names and their corresponding quantities, making the data easy to manage and plot.\n",
    "- `plt.figure(figsize=(6,4))` sets the size of the plot for better visibility.\n",
    "- `plt.bar(df['Fruit'], df['Quantity'], color='skyblue')` generates a bar chart with fruit names on the x-axis and quantities on the y-axis. The bars are colored light blue for visual appeal.\n",
    "- `plt.title('Fruit Quantity')` adds a title to the chart, summarizing the data being presented.\n",
    "- `plt.xlabel('Fruit')` and `plt.ylabel('Quantity')` label the axes, clarifying what each axis represents.\n",
    "- `plt.show()` displays the bar chart, allowing for easy comparison of quantities across different fruits."
   ]
  },
  {
   "cell_type": "markdown",
   "id": "395010d7",
   "metadata": {},
   "source": [
    "## Example: Pandas DataFrame Scatter Plot\n",
    "Let's visualize the relationship between two variables using a scatter plot."
   ]
  },
  {
   "cell_type": "code",
   "execution_count": null,
   "id": "a4c3cdfa",
   "metadata": {},
   "outputs": [],
   "source": [
    "data = {\n",
    "    'Height': [150, 160, 170, 180, 190],\n",
    "    'Weight': [50, 60, 65, 80, 90]\n",
    "}\n",
    "df = pd.DataFrame(data)\n",
    "plt.figure(figsize=(6,4))\n",
    "plt.scatter(df['Height'], df['Weight'], color='green')\n",
    "plt.title('Height vs Weight')\n",
    "plt.xlabel('Height (cm)')\n",
    "plt.ylabel('Weight (kg)')\n",
    "plt.show()"
   ]
  },
  {
   "cell_type": "markdown",
   "id": "ffc938fd",
   "metadata": {},
   "source": [
    "**Explanation:**\n",
    "- A pandas DataFrame is created to store height and weight data for several individuals, making it easy to plot and analyze.\n",
    "- `plt.figure(figsize=(6,4))` sets the size of the plot for clarity.\n",
    "- `plt.scatter(df['Height'], df['Weight'], color='green')` creates a scatter plot with height on the x-axis and weight on the y-axis. Each point represents an individual's measurements, and the green color makes the points stand out.\n",
    "- `plt.title('Height vs Weight')` adds a descriptive title to the plot.\n",
    "- `plt.xlabel('Height (cm)')` and `plt.ylabel('Weight (kg)')` label the axes, clarifying the units and meaning of each axis.\n",
    "- `plt.show()` displays the scatter plot, making it easy to observe relationships or patterns between height and weight."
   ]
  },
  {
   "cell_type": "markdown",
   "id": "bb329a44",
   "metadata": {},
   "source": [
    "## Summary\n",
    "\n",
    "Matplotlib provides flexible tools for creating a wide variety of plots, including line, bar, and scatter plots. By customizing colors, labels, and styles, you can make your data visualizations clear and informative.\n",
    "\n",
    "Pandas is a powerful library for data manipulation and analysis. It works seamlessly with Matplotlib, allowing you to easily plot data stored in DataFrames.\n",
    "\n",
    "**Key Takeaways:**\n",
    "- Use Matplotlib for visualizing data in many formats.\n",
    "- Use Pandas to organize and prepare your data for plotting.\n",
    "- Customize your plots with titles, axis labels, colors, markers, legends, and grids.\n",
    "- Save your plots to files for sharing or reporting.\n",
    "\n",
    "**Practice:**\n",
    "- Try modifying the example code to use your own data and experiment with different plot types and customizations.\n",
    "- Explore more advanced features such as subplots, histograms, pie charts, and interactive plots.\n",
    "- Combine Pandas and Matplotlib to analyze and visualize real-world datasets."
   ]
  }
 ],
 "metadata": {
  "kernelspec": {
   "display_name": ".venv",
   "language": "python",
   "name": "python3"
  },
  "language_info": {
   "codemirror_mode": {
    "name": "ipython",
    "version": 3
   },
   "file_extension": ".py",
   "mimetype": "text/x-python",
   "name": "python",
   "nbconvert_exporter": "python",
   "pygments_lexer": "ipython3",
   "version": "3.13.7"
  }
 },
 "nbformat": 4,
 "nbformat_minor": 5
}
