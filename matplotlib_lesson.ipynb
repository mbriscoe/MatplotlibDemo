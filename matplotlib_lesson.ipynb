{
 "cells": [
  {
   "cell_type": "markdown",
   "id": "f12fe33b",
   "metadata": {},
   "source": [
    "# Matplotlib Introduction\n",
    "\n",
    "Matplotlib is a powerful Python library for creating static, animated, and interactive visualizations. It is widely used for data visualization in scientific computing, engineering, and data analysis.\n",
    "\n",
    "This notebook covers:\n",
    "- Basic concepts of Matplotlib\n",
    "- Creating simple plots\n",
    "- Customizing plots\n",
    "- Plotting with example data"
   ]
  },
  {
   "cell_type": "code",
   "execution_count": null,
   "id": "cfd1db5d",
   "metadata": {},
   "outputs": [],
   "source": [
    "# Import Matplotlib\n",
    "import matplotlib.pyplot as plt"
   ]
  },
  {
   "cell_type": "markdown",
   "id": "a56b8e35",
   "metadata": {},
   "source": [
    "## Importing Matplotlib\n",
    "\n",
    "`matplotlib.pyplot` is the main module for plotting in Matplotlib. The alias `plt` is commonly used for convenience."
   ]
  },
  {
   "cell_type": "markdown",
   "id": "5ab81a59",
   "metadata": {},
   "source": [
    "## Creating a Simple Line Plot\n",
    "\n",
    "Let's plot a simple line graph using lists of x and y values."
   ]
  },
  {
   "cell_type": "code",
   "execution_count": null,
   "id": "26389d09",
   "metadata": {},
   "outputs": [],
   "source": [
    "x = [1, 2, 3, 4, 5]\n",
    "y = [2, 4, 6, 8, 10]\n",
    "plt.plot(x, y)\n",
    "plt.title('Simple Line Plot')\n",
    "plt.xlabel('X Axis')\n",
    "plt.ylabel('Y Axis')\n",
    "plt.show()"
   ]
  },
  {
   "cell_type": "markdown",
   "id": "9b16947b",
   "metadata": {},
   "source": [
    "**Explanation:**\n",
    "- `x` and `y` are lists of numbers representing data points.\n",
    "- `plt.plot(x, y)` draws a line connecting the points (x, y).\n",
    "- `plt.title()` adds a title to the plot.\n",
    "- `plt.xlabel()` and `plt.ylabel()` label the axes.\n",
    "- `plt.show()` displays the plot window."
   ]
  },
  {
   "cell_type": "markdown",
   "id": "7bec6007",
   "metadata": {},
   "source": [
    "## Customizing the Plot\n",
    "\n",
    "You can change the appearance of your plot using various options."
   ]
  },
  {
   "cell_type": "code",
   "execution_count": null,
   "id": "9355f237",
   "metadata": {},
   "outputs": [],
   "source": [
    "plt.plot(x, y, color='red', linestyle='--', marker='o', label='Data')\n",
    "plt.title('Customized Line Plot')\n",
    "plt.xlabel('X Axis')\n",
    "plt.ylabel('Y Axis')\n",
    "plt.legend()\n",
    "plt.grid(True)\n",
    "plt.show()"
   ]
  },
  {
   "cell_type": "markdown",
   "id": "b09ba7ba",
   "metadata": {},
   "source": [
    "**Explanation:**\n",
    "- `color='red'` sets the line color.\n",
    "- `linestyle='--'` makes the line dashed.\n",
    "- `marker='o'` adds circular markers at each data point.\n",
    "- `label='Data'` names the line for the legend.\n",
    "- `plt.legend()` displays the legend.\n",
    "- `plt.grid(True)` adds grid lines for easier reading."
   ]
  },
  {
   "cell_type": "markdown",
   "id": "a7940468",
   "metadata": {},
   "source": [
    "## Bar Chart Example\n",
    "\n",
    "Bar charts are useful for comparing discrete categories."
   ]
  },
  {
   "cell_type": "code",
   "execution_count": null,
   "id": "be7fb4bb",
   "metadata": {},
   "outputs": [],
   "source": [
    "categories = ['A', 'B', 'C', 'D']\n",
    "values = [10, 24, 36, 18]\n",
    "plt.bar(categories, values, color='skyblue')\n",
    "plt.title('Bar Chart Example')\n",
    "plt.xlabel('Category')\n",
    "plt.ylabel('Value')\n",
    "plt.show()"
   ]
  },
  {
   "cell_type": "markdown",
   "id": "ec39eb5c",
   "metadata": {},
   "source": [
    "**Explanation:**\n",
    "- `plt.bar()` creates a bar chart.\n",
    "- `categories` are labels for each bar.\n",
    "- `values` are the heights of the bars.\n",
    "- `color='skyblue'` sets the bar color.\n",
    "- The rest adds title and axis labels, then shows the plot."
   ]
  },
  {
   "cell_type": "markdown",
   "id": "46656e84",
   "metadata": {},
   "source": [
    "## Scatter Plot Example\n",
    "\n",
    "Scatter plots are useful for visualizing relationships between two variables."
   ]
  },
  {
   "cell_type": "code",
   "execution_count": null,
   "id": "a122730a",
   "metadata": {},
   "outputs": [],
   "source": [
    "import numpy as np\n",
    "x = np.random.rand(50)\n",
    "y = np.random.rand(50)\n",
    "plt.scatter(x, y, color='green')\n",
    "plt.title('Scatter Plot Example')\n",
    "plt.xlabel('X Value')\n",
    "plt.ylabel('Y Value')\n",
    "plt.show()"
   ]
  },
  {
   "cell_type": "markdown",
   "id": "8448651d",
   "metadata": {},
   "source": [
    "**Explanation:**\n",
    "- `np.random.rand(50)` creates 50 random numbers between 0 and 1 for both x and y.\n",
    "- `plt.scatter()` plots each (x, y) pair as a point.\n",
    "- `color='green'` sets the point color.\n",
    "- The rest adds title and axis labels, then shows the plot."
   ]
  },
  {
   "cell_type": "markdown",
   "id": "fa88e469",
   "metadata": {},
   "source": [
    "## Saving Plots to Files\n",
    "\n",
    "You can save your plots to image files for use in reports or presentations."
   ]
  },
  {
   "cell_type": "code",
   "execution_count": null,
   "id": "1631d330",
   "metadata": {},
   "outputs": [],
   "source": [
    "plt.plot(x, y)\n",
    "plt.title('Save Plot Example')\n",
    "plt.savefig('my_plot.png')\n",
    "plt.close()"
   ]
  },
  {
   "cell_type": "markdown",
   "id": "fadbf7a5",
   "metadata": {},
   "source": [
    "**Explanation:**\n",
    "- `plt.savefig('my_plot.png')` saves the plot as a PNG file.\n",
    "- `plt.close()` closes the plot window to free up memory."
   ]
  },
  {
   "cell_type": "markdown",
   "id": "047fa2cc",
   "metadata": {},
   "source": [
    "## Example: Pandas DataFrame Line Plot\n",
    "Let's create a simple DataFrame and plot its values using matplotlib."
   ]
  },
  {
   "cell_type": "code",
   "execution_count": null,
   "id": "51832155",
   "metadata": {},
   "outputs": [],
   "source": [
    "import pandas as pd\n",
    "import matplotlib.pyplot as plt\n",
    "\n",
    "data = {\n",
    "    'Year': [2020, 2021, 2022, 2023],\n",
    "    'Sales': [100, 150, 200, 250]\n",
    "}\n",
    "df = pd.DataFrame(data)\n",
    "plt.figure(figsize=(6,4))\n",
    "plt.plot(df['Year'], df['Sales'], marker='o')\n",
    "plt.title('Sales Over Years')\n",
    "plt.xlabel('Year')\n",
    "plt.ylabel('Sales')\n",
    "plt.grid(True)\n",
    "plt.show()"
   ]
  },
  {
   "cell_type": "markdown",
   "id": "5dd3d7f6",
   "metadata": {},
   "source": [
    "**Explanation:**\n",
    "- Creates a pandas DataFrame with yearly sales data.\n",
    "- Uses matplotlib to plot a line graph with years on the x-axis and sales on the y-axis.\n",
    "- `marker='o'` adds markers for each data point.\n",
    "- `plt.title()` adds a title to the plot.\n",
    "- `plt.xlabel()` and `plt.ylabel()` label the axes.\n",
    "- `plt.grid(True)` adds grid lines for easier reading.\n",
    "- `plt.show()` displays the plot."
   ]
  },
  {
   "cell_type": "markdown",
   "id": "4f67827d",
   "metadata": {},
   "source": [
    "## Example: Pandas DataFrame Bar Plot\n",
    "Now let's visualize categorical data using a bar plot."
   ]
  },
  {
   "cell_type": "code",
   "execution_count": null,
   "id": "d7b739af",
   "metadata": {},
   "outputs": [],
   "source": [
    "import pandas as pd\n",
    "import matplotlib.pyplot as plt\n",
    "\n",
    "data = {\n",
    "    'Fruit': ['Apple', 'Banana', 'Orange', 'Grape'],\n",
    "    'Quantity': [30, 45, 10, 22]\n",
    "}\n",
    "df = pd.DataFrame(data)\n",
    "plt.figure(figsize=(6,4))\n",
    "plt.bar(df['Fruit'], df['Quantity'], color='skyblue')\n",
    "plt.title('Fruit Quantity')\n",
    "plt.xlabel('Fruit')\n",
    "plt.ylabel('Quantity')\n",
    "plt.show()"
   ]
  },
  {
   "cell_type": "markdown",
   "id": "694562e5",
   "metadata": {},
   "source": [
    "**Explanation:**\n",
    "- Creates a pandas DataFrame with fruit names and their quantities.\n",
    "- Uses matplotlib to display a bar chart with fruits on the x-axis and quantities on the y-axis.\n",
    "- `color='skyblue'` sets the bar color.\n",
    "- `plt.title()` adds a title to the chart.\n",
    "- `plt.xlabel()` and `plt.ylabel()` label the axes.\n",
    "- `plt.show()` displays the plot."
   ]
  },
  {
   "cell_type": "markdown",
   "id": "395010d7",
   "metadata": {},
   "source": [
    "## Example: Pandas DataFrame Scatter Plot\n",
    "Let's visualize the relationship between two variables using a scatter plot."
   ]
  },
  {
   "cell_type": "code",
   "execution_count": null,
   "id": "a4c3cdfa",
   "metadata": {},
   "outputs": [],
   "source": [
    "import pandas as pd\n",
    "import matplotlib.pyplot as plt\n",
    "\n",
    "data = {\n",
    "    'Height': [150, 160, 170, 180, 190],\n",
    "    'Weight': [50, 60, 65, 80, 90]\n",
    "}\n",
    "df = pd.DataFrame(data)\n",
    "plt.figure(figsize=(6,4))\n",
    "plt.scatter(df['Height'], df['Weight'], color='green')\n",
    "plt.title('Height vs Weight')\n",
    "plt.xlabel('Height (cm)')\n",
    "plt.ylabel('Weight (kg)')\n",
    "plt.show()"
   ]
  },
  {
   "cell_type": "markdown",
   "id": "ffc938fd",
   "metadata": {},
   "source": [
    "**Explanation:**\n",
    "- Creates a pandas DataFrame with height and weight data.\n",
    "- Uses matplotlib to plot a scatter plot with height on the x-axis and weight on the y-axis.\n",
    "- Each point represents a person’s height and weight.\n",
    "- `color='green'` sets the point color.\n",
    "- `plt.title()` adds a title to the plot.\n",
    "- `plt.xlabel()` and `plt.ylabel()` label the axes.\n",
    "- `plt.show()` displays the plot."
   ]
  },
  {
   "cell_type": "markdown",
   "id": "bb329a44",
   "metadata": {},
   "source": [
    "## Summary\n",
    "\n",
    "Matplotlib provides flexible tools for creating a wide variety of plots, including line, bar, and scatter plots. By customizing colors, labels, and styles, you can make your data visualizations clear and informative.\n",
    "\n",
    "Pandas is a powerful library for data manipulation and analysis. It works seamlessly with Matplotlib, allowing you to easily plot data stored in DataFrames.\n",
    "\n",
    "**Key Takeaways:**\n",
    "- Use Matplotlib for visualizing data in many formats.\n",
    "- Use Pandas to organize and prepare your data for plotting.\n",
    "- Customize your plots with titles, axis labels, colors, markers, legends, and grids.\n",
    "- Save your plots to files for sharing or reporting.\n",
    "\n",
    "**Practice:**\n",
    "- Try modifying the example code to use your own data and experiment with different plot types and customizations.\n",
    "- Explore more advanced features such as subplots, histograms, pie charts, and interactive plots.\n",
    "- Combine Pandas and Matplotlib to analyze and visualize real-world datasets."
   ]
  }
 ],
 "metadata": {
  "language_info": {
   "name": "python"
  }
 },
 "nbformat": 4,
 "nbformat_minor": 5
}
